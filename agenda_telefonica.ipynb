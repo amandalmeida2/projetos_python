{
 "cells": [
  {
   "cell_type": "markdown",
   "metadata": {},
   "source": [
    "Faça um código para criar uma agenda telefônica. O programa deve armazenar o nome e um ou mais telefones do contato. Em seguida, o usuário vai informar o nome de algum contato armazenado e o programa deve retornar os número(s) do contato\n"
   ]
  },
  {
   "cell_type": "code",
   "execution_count": 3,
   "metadata": {},
   "outputs": [
    {
     "name": "stdout",
     "output_type": "stream",
     "text": [
      "--------------------------\n",
      "- 1: Cadastrar Novo Usuário\n",
      "- 2: Fazer uma consulta\n",
      "- 3: Sair\n",
      "--------------------------\n",
      "Usuário cadastrado com sucesso!\n",
      "--------------------------\n",
      "- 1: Cadastrar Novo Usuário\n",
      "- 2: Fazer uma consulta\n",
      "- 3: Sair\n",
      "--------------------------\n",
      "Nome: Amanda almeida, Contato: ['61996914267', '41996914267']\n",
      "--------------------------\n",
      "- 1: Cadastrar Novo Usuário\n",
      "- 2: Fazer uma consulta\n",
      "- 3: Sair\n",
      "--------------------------\n",
      "Você saiu da agenda\n"
     ]
    }
   ],
   "source": [
    "#Agenda Telefônica\n",
    "\n",
    "agenda = {}\n",
    "\n",
    "while True: \n",
    "\n",
    "    print(\"--------------------------\")\n",
    "    print(\"- 1: Cadastrar Novo Usuário\")\n",
    "    print(\"- 2: Fazer uma consulta\")\n",
    "    print(\"- 3: Sair\")\n",
    "    print(\"--------------------------\")\n",
    "    \n",
    "    opcoes = int(input(\"Digite a opção desejada: \"))\n",
    "\n",
    "    if opcoes == 1:\n",
    "\n",
    "        nome = input(\"Digite o nome a ser cadastrado \").capitalize()\n",
    "        telefone = input(\"Digite os telefones separados por espaço \")\n",
    "\n",
    "        telefone = telefone.split()\n",
    "\n",
    "        if nome in agenda:\n",
    "            agenda[nome].append(telefone)\n",
    "            \n",
    "        else: \n",
    "            agenda[nome]=telefone\n",
    "        print('Usuário cadastrado com sucesso!')\n",
    "\n",
    "    elif opcoes == 2:\n",
    "        pesquisa = input(\"Digite o nome que deseja procurar\").capitalize()\n",
    "\n",
    "        print(f'Nome: {pesquisa}, Contato: {agenda[pesquisa]}')\n",
    "      \n",
    "    elif opcoes == 3:\n",
    "        print(f'Você saiu da agenda')\n",
    "        break"
   ]
  }
 ],
 "metadata": {
  "kernelspec": {
   "display_name": "Python 3",
   "language": "python",
   "name": "python3"
  },
  "language_info": {
   "codemirror_mode": {
    "name": "ipython",
    "version": 3
   },
   "file_extension": ".py",
   "mimetype": "text/x-python",
   "name": "python",
   "nbconvert_exporter": "python",
   "pygments_lexer": "ipython3",
   "version": "3.12.4"
  }
 },
 "nbformat": 4,
 "nbformat_minor": 2
}
